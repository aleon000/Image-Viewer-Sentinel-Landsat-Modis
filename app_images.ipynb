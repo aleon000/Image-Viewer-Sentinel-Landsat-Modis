{
 "cells": [
  {
   "cell_type": "code",
   "execution_count": 1,
   "id": "6aba4b2b",
   "metadata": {},
   "outputs": [],
   "source": [
    "import ee\n",
    "import geemap\n",
    "import ipywidgets as widgets\n",
    "import datetime as dt\n",
    "\n",
    "#ee.Initialize()\n",
    "#ee.Authenticate()"
   ]
  },
  {
   "cell_type": "code",
   "execution_count": 2,
   "id": "f6e6f523",
   "metadata": {},
   "outputs": [],
   "source": [
    "Map = geemap.Map()"
   ]
  },
  {
   "cell_type": "code",
   "execution_count": 3,
   "id": "27c4aa63",
   "metadata": {},
   "outputs": [],
   "source": [
    "#Cloud mask\n",
    "def maskS2clouds(image):\n",
    "  qa = image.select('QA60')\n",
    "\n",
    "  # Bits 10 and 11 are clouds and cirrus, respectively.\n",
    "  cloudBitMask = 1 << 10\n",
    "  cirrusBitMask = 1 << 11\n",
    "\n",
    "  # Both flags should be set to zero, indicating clear conditions.\n",
    "  mask = qa.bitwiseAnd(cloudBitMask).eq(0) \\\n",
    "      .And(qa.bitwiseAnd(cirrusBitMask).eq(0))\n",
    "\n",
    "  return image.updateMask(mask).divide(10000)\n",
    "\n",
    "#Landsat image scale fator\n",
    "def applyScaleFactors(image):\n",
    "  opticalBands = image.select('SR_B.').multiply(0.0000275).add(-0.2)\n",
    "  thermalBands = image.select('ST_B.*').multiply(0.00341802).add(149.0)\n",
    "  return image.addBands(opticalBands, None, True) \\\n",
    "              .addBands(thermalBands, None, True)"
   ]
  },
  {
   "cell_type": "code",
   "execution_count": 6,
   "id": "a19d81d1",
   "metadata": {},
   "outputs": [],
   "source": [
    "#Widget to select the dataset\n",
    "ds_wgt = widgets.Dropdown(\n",
    "    options=['Sentinel', 'Landsat', 'Modis'],\n",
    "    value='Sentinel',\n",
    "    description=\"Dataset:\")\n",
    "    #layout=widgets.Layout(width=widget_width, padding=padding),\n",
    "    #style={\"description_width\": \"initial\"})\n",
    "\n",
    "#Widget date\n",
    "date1_wgt = widgets.DatePicker(\n",
    "    description='Start Date:',\n",
    "    value=dt.date(2023, 1, 1),\n",
    "    disabled=False)\n",
    "\n",
    "date2_wgt = widgets.DatePicker(\n",
    "    description='End Date:',\n",
    "    value=dt.date(2023, 1, 1),\n",
    "    disabled=False)\n",
    "    \n",
    "date_box = widgets.HBox([date1_wgt, date2_wgt])\n",
    "\n",
    "#Widget layer name\n",
    "name = widgets.Text(\n",
    "    value='',\n",
    "    placeholder='Layer Name',\n",
    "    description='Layer Name',\n",
    "    disabled=False)\n",
    "    \n",
    "#Widget to execute function run_map()    \n",
    "button = widgets.Button(\n",
    "    description='Load Parameters', \n",
    "    button_style='primary',\n",
    "    tooltip='Click me')\n",
    "output = widgets.Output()\n",
    "button_box = widgets.HBox([button, output])"
   ]
  },
  {
   "cell_type": "code",
   "execution_count": 7,
   "id": "926fde90",
   "metadata": {},
   "outputs": [],
   "source": [
    "def date1():    \n",
    "    ss = date1_wgt.value\n",
    "    date1 = \"{}-{:02}-{:02}\".format(ss.year, ss.month, ss.day)\n",
    "    return(date1)\n",
    "    \n",
    "def date2():\n",
    "    ss = date2_wgt.value\n",
    "    date2 = \"{}-{:02}-{:02}\".format(ss.year, ss.month, ss.day)\n",
    "    return(date2)\n",
    "\n",
    "#Getting roi\n",
    "def roi():\n",
    "    roi = Map.draw_features[0]\n",
    "    roi = ee.Feature(roi).geometry()\n",
    "    return(roi)\n",
    "\n",
    "def run_map(b):  \n",
    "    #Loading datasets to map\n",
    "    if ds_wgt.value == 'Sentinel':\n",
    "        dataset = ee.ImageCollection('COPERNICUS/S2_SR_HARMONIZED') \\\n",
    "                  .filterDate(date1(), date2()) \\\n",
    "                  .filterBounds(roi())\\\n",
    "                  .filter(ee.Filter.lt('CLOUDY_PIXEL_PERCENTAGE',20))\\\n",
    "                  .map(maskS2clouds)\\\n",
    "                  .mean()           \n",
    "\n",
    "        visualization = {\n",
    "        'min': 0.0,\n",
    "        'max': 0.3,\n",
    "        'bands': ['B4', 'B3', 'B2']\n",
    "        }\n",
    "            \n",
    "        Map.addLayer(dataset, visualization, name.value)\n",
    "        \n",
    "    if ds_wgt.value == 'Landsat':\n",
    "        dataset = ee.ImageCollection('LANDSAT/LC09/C02/T1_L2') \\\n",
    "            .filterDate(date1(), date2())\\\n",
    "            .filterBounds(roi())\n",
    "    \n",
    "        dataset = dataset.map(applyScaleFactors)\n",
    "\n",
    "        visualization = {\n",
    "            'bands': ['SR_B4', 'SR_B3', 'SR_B2'],\n",
    "            'min': 0.0,\n",
    "            'max': 0.3\n",
    "            }\n",
    "        \n",
    "        Map.addLayer(dataset, visualization, name.value)\n",
    "        \n",
    "    if ds_wgt.value == 'Modis':\n",
    "        dataset = ee.ImageCollection('MODIS/006/MOD09GQ') \\\n",
    "            .filter(ee.Filter.date(date1(), date2()))\\\n",
    "            .filterBounds(roi())\n",
    "    \n",
    "        visualization = {\n",
    "        'min': -100.0,\n",
    "        'max': 8000.0,\n",
    "        'bands': ['sur_refl_b02', 'sur_refl_b02', 'sur_refl_b01'],}\n",
    "        \n",
    "        Map.addLayer(dataset, visualization, name.value)\n",
    "\n",
    "button.on_click(run_map)"
   ]
  },
  {
   "cell_type": "code",
   "execution_count": 8,
   "id": "ca3ff46d",
   "metadata": {},
   "outputs": [
    {
     "data": {
      "application/vnd.jupyter.widget-view+json": {
       "model_id": "a9e3c561959b466a8ec2348e1995826b",
       "version_major": 2,
       "version_minor": 0
      },
      "text/plain": [
       "Map(center=[20, 0], controls=(WidgetControl(options=['position', 'transparent_bg'], widget=HBox(children=(Togg…"
      ]
     },
     "metadata": {},
     "output_type": "display_data"
    }
   ],
   "source": [
    "Map"
   ]
  },
  {
   "cell_type": "code",
   "execution_count": 9,
   "id": "1e4984ea",
   "metadata": {},
   "outputs": [
    {
     "data": {
      "application/vnd.jupyter.widget-view+json": {
       "model_id": "53b696ddca8d489185bbf776ac8872e4",
       "version_major": 2,
       "version_minor": 0
      },
      "text/plain": [
       "HBox(children=(HBox(children=(DatePicker(value=datetime.date(2021, 1, 1), description='Pick a Date'), DatePick…"
      ]
     },
     "metadata": {},
     "output_type": "display_data"
    }
   ],
   "source": [
    "widgets.HBox([date_box, ds_wgt, name])"
   ]
  },
  {
   "cell_type": "code",
   "execution_count": 10,
   "id": "b11fa91b",
   "metadata": {
    "scrolled": true
   },
   "outputs": [
    {
     "data": {
      "application/vnd.jupyter.widget-view+json": {
       "model_id": "6d9745a49e7944ef935832010b2f33e1",
       "version_major": 2,
       "version_minor": 0
      },
      "text/plain": [
       "HBox(children=(Button(button_style='primary', description='Load Parameters', style=ButtonStyle(), tooltip='Cli…"
      ]
     },
     "metadata": {},
     "output_type": "display_data"
    }
   ],
   "source": [
    "button_box"
   ]
  },
  {
   "cell_type": "code",
   "execution_count": null,
   "id": "74efd3d1",
   "metadata": {},
   "outputs": [],
   "source": []
  }
 ],
 "metadata": {
  "kernelspec": {
   "display_name": "Python 3 (ipykernel)",
   "language": "python",
   "name": "python3"
  },
  "language_info": {
   "codemirror_mode": {
    "name": "ipython",
    "version": 3
   },
   "file_extension": ".py",
   "mimetype": "text/x-python",
   "name": "python",
   "nbconvert_exporter": "python",
   "pygments_lexer": "ipython3",
   "version": "3.9.7"
  }
 },
 "nbformat": 4,
 "nbformat_minor": 5
}
